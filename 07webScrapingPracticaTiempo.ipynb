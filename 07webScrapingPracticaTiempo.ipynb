{
  "nbformat": 4,
  "nbformat_minor": 0,
  "metadata": {
    "colab": {
      "provenance": []
    },
    "kernelspec": {
      "name": "python3",
      "display_name": "Python 3"
    },
    "language_info": {
      "name": "python"
    }
  },
  "cells": [
    {
      "cell_type": "markdown",
      "source": [
        "#Obteniendo datos del tiempo de mi ciudad"
      ],
      "metadata": {
        "id": "DGIEtJfiPk1t"
      }
    },
    {
      "cell_type": "code",
      "execution_count": 1,
      "metadata": {
        "id": "NGwneZOFPfeW"
      },
      "outputs": [],
      "source": [
        "import requests\n",
        "from bs4 import BeautifulSoup"
      ]
    },
    {
      "cell_type": "code",
      "source": [
        "url='https://www.eltiempo.es/sevilla.html'\n",
        "web = requests.get(url)\n",
        "soup = BeautifulSoup(web.text,'lxml')\n",
        "print(web.status_code)"
      ],
      "metadata": {
        "colab": {
          "base_uri": "https://localhost:8080/"
        },
        "id": "DjyE5vQFPtnR",
        "outputId": "9a98fffc-aa11-40ae-c147-92e6416df767"
      },
      "execution_count": 4,
      "outputs": [
        {
          "output_type": "stream",
          "name": "stdout",
          "text": [
            "200\n"
          ]
        }
      ]
    },
    {
      "cell_type": "code",
      "source": [
        "temperatura = soup.find('span',attrs={'class':'c-tib-text'}).get_text()\n",
        "print(temperatura)"
      ],
      "metadata": {
        "colab": {
          "base_uri": "https://localhost:8080/"
        },
        "id": "DxmbKhLaP5K5",
        "outputId": "b5250828-c06b-4d1a-dd90-a149e6d57d6e"
      },
      "execution_count": 5,
      "outputs": [
        {
          "output_type": "stream",
          "name": "stdout",
          "text": [
            "7°\n"
          ]
        }
      ]
    },
    {
      "cell_type": "code",
      "source": [
        "seccion_estado = soup.find('div',attrs={'class':'c-pois-text'})\n",
        "estado = seccion_estado.find('span').get_text()\n",
        "print(estado)"
      ],
      "metadata": {
        "colab": {
          "base_uri": "https://localhost:8080/"
        },
        "id": "1aEPo3WiQRfp",
        "outputId": "d39db82b-a3b3-4c95-a002-220db32a72b8"
      },
      "execution_count": 6,
      "outputs": [
        {
          "output_type": "stream",
          "name": "stdout",
          "text": [
            "Intervalos nubosos\n"
          ]
        }
      ]
    },
    {
      "cell_type": "code",
      "source": [
        "maxima = soup.find('span',attrs={'class':'m_table_weather_day_max_temp'})\n",
        "temp_maxima = maxima.find('span').get_text()\n",
        "minima = soup.find('span',attrs={'class':'m_table_weather_day_min_temp'})\n",
        "temp_minima = minima.find('span').get_text()"
      ],
      "metadata": {
        "id": "yCWB4CHvQ066"
      },
      "execution_count": 7,
      "outputs": []
    },
    {
      "cell_type": "code",
      "source": [
        "temp_minima"
      ],
      "metadata": {
        "colab": {
          "base_uri": "https://localhost:8080/",
          "height": 35
        },
        "id": "dfKTllPyReqB",
        "outputId": "13737e33-3ba8-49c4-db22-9b9cf2230ca3"
      },
      "execution_count": 9,
      "outputs": [
        {
          "output_type": "execute_result",
          "data": {
            "text/plain": [
              "'6°'"
            ],
            "application/vnd.google.colaboratory.intrinsic+json": {
              "type": "string"
            }
          },
          "metadata": {},
          "execution_count": 9
        }
      ]
    },
    {
      "cell_type": "code",
      "source": [
        "temp_maxima"
      ],
      "metadata": {
        "colab": {
          "base_uri": "https://localhost:8080/",
          "height": 35
        },
        "id": "U4MuXEidRfnU",
        "outputId": "9426cfb5-3589-436f-9e2c-6e6e5cdbe8e8"
      },
      "execution_count": 10,
      "outputs": [
        {
          "output_type": "execute_result",
          "data": {
            "text/plain": [
              "'17°'"
            ],
            "application/vnd.google.colaboratory.intrinsic+json": {
              "type": "string"
            }
          },
          "metadata": {},
          "execution_count": 10
        }
      ]
    },
    {
      "cell_type": "code",
      "source": [
        "ciudad = soup.find('span',attrs={'class':'-itl'}).get_text().strip()\n",
        "ciudad"
      ],
      "metadata": {
        "colab": {
          "base_uri": "https://localhost:8080/",
          "height": 35
        },
        "id": "_Jy_-9PERjXO",
        "outputId": "e1e4e025-4401-4121-ca84-d270da5d4ad2"
      },
      "execution_count": 12,
      "outputs": [
        {
          "output_type": "execute_result",
          "data": {
            "text/plain": [
              "'Sevilla'"
            ],
            "application/vnd.google.colaboratory.intrinsic+json": {
              "type": "string"
            }
          },
          "metadata": {},
          "execution_count": 12
        }
      ]
    },
    {
      "cell_type": "code",
      "source": [
        "# Presentacion\n",
        "print(f'Hoy tenemos {temperatura} grados en {ciudad} \\nEstado: {estado}')\n",
        "print(f'Con una minima de {temp_minima} grados')\n",
        "print(f'Y una maxima de {temp_maxima} grados')"
      ],
      "metadata": {
        "colab": {
          "base_uri": "https://localhost:8080/"
        },
        "id": "7wfpQ0H_Rx-g",
        "outputId": "b78e0e42-79f9-4978-b391-29459440f63b"
      },
      "execution_count": 13,
      "outputs": [
        {
          "output_type": "stream",
          "name": "stdout",
          "text": [
            "Hoy tenemos 7° grados en Sevilla \n",
            "Estado: Intervalos nubosos\n",
            "Con una minima de 6° grados\n",
            "Y una maxima de 17° grados\n"
          ]
        }
      ]
    },
    {
      "cell_type": "code",
      "source": [],
      "metadata": {
        "id": "kRE4UYfKST0B"
      },
      "execution_count": null,
      "outputs": []
    }
  ]
}