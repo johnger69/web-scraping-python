{
  "nbformat": 4,
  "nbformat_minor": 0,
  "metadata": {
    "colab": {
      "provenance": []
    },
    "kernelspec": {
      "name": "python3",
      "display_name": "Python 3"
    },
    "language_info": {
      "name": "python"
    }
  },
  "cells": [
    {
      "cell_type": "markdown",
      "source": [
        "#Requests"
      ],
      "metadata": {
        "id": "ziedfbQvTgi9"
      }
    },
    {
      "cell_type": "code",
      "execution_count": 1,
      "metadata": {
        "id": "og_j81p2Ta6W"
      },
      "outputs": [],
      "source": [
        "import requests"
      ]
    },
    {
      "cell_type": "code",
      "source": [
        "url = 'https://www.josecodetech.es/'"
      ],
      "metadata": {
        "id": "K4EPAF4mTih6"
      },
      "execution_count": 2,
      "outputs": []
    },
    {
      "cell_type": "code",
      "source": [
        "web = requests.get(url)"
      ],
      "metadata": {
        "id": "0PeeULCkTxQK"
      },
      "execution_count": 3,
      "outputs": []
    },
    {
      "cell_type": "code",
      "source": [
        "web"
      ],
      "metadata": {
        "colab": {
          "base_uri": "https://localhost:8080/"
        },
        "id": "CLZMNlJ4UD1T",
        "outputId": "c4310eaa-6ad8-4c83-d984-37245c5b9f8f"
      },
      "execution_count": 4,
      "outputs": [
        {
          "output_type": "execute_result",
          "data": {
            "text/plain": [
              "<Response [200]>"
            ]
          },
          "metadata": {},
          "execution_count": 4
        }
      ]
    },
    {
      "cell_type": "code",
      "source": [
        "web.status_code"
      ],
      "metadata": {
        "colab": {
          "base_uri": "https://localhost:8080/"
        },
        "id": "R9DjofuaUFaz",
        "outputId": "12298f30-fec8-4edc-8237-8c2f72fd5195"
      },
      "execution_count": 5,
      "outputs": [
        {
          "output_type": "execute_result",
          "data": {
            "text/plain": [
              "200"
            ]
          },
          "metadata": {},
          "execution_count": 5
        }
      ]
    },
    {
      "cell_type": "code",
      "source": [
        "# mostrar el texto del codigo igual que hacemos en navegador\n",
        "print(web.text)"
      ],
      "metadata": {
        "id": "wlWgEUUwUI9j"
      },
      "execution_count": null,
      "outputs": []
    },
    {
      "cell_type": "code",
      "source": [
        "print(web.content)"
      ],
      "metadata": {
        "colab": {
          "base_uri": "https://localhost:8080/"
        },
        "id": "m6XNAK-UUV61",
        "outputId": "f6c34aa0-818f-44a1-ebbe-71d3b0b14e90"
      },
      "execution_count": 7,
      "outputs": [
        {
          "output_type": "stream",
          "name": "stdout",
          "text": [
            "b' <!DOCTYPE html>\\r\\n<html lang=\"es\">\\r\\n\\r\\n<head>\\r\\n  <!-- Google tag (gtag.js) -->\\r\\n<script async src=\"https://www.googletagmanager.com/gtag/js?id=G-9C1FMCC25K\"></script>\\r\\n<script>\\r\\n  window.dataLayer = window.dataLayer || [];\\r\\n\\r\\n  function gtag() {\\r\\n    dataLayer.push(arguments);\\r\\n  }\\r\\n  gtag(\\'js\\', new Date());\\r\\n\\r\\n  gtag(\\'config\\', \\'G-9C1FMCC25K\\');\\r\\n</script>\\r\\n\\r\\n  <meta charset=\"UTF-8\">\\r\\n<meta http-equiv=\"X-UA-Compatible\" content=\"IE=edge\">\\r\\n<meta name=\"viewport\" content=\"width=device-width, initial-scale=1.0\">\\r\\n<link rel=\"stylesheet\" href=\"./css/cookie.css\">\\r\\n<link rel=\"stylesheet\" href=\"./css/estilos.css\">\\r\\n<link href=\"https://cdn.jsdelivr.net/npm/bootstrap@5.1.3/dist/css/bootstrap.min.css\" rel=\"stylesheet\" integrity=\"sha384-1BmE4kWBq78iYhFldvKuhfTAU6auU8tT94WrHftjDbrCEXSU1oBoqyl2QvZ6jIW3\" crossorigin=\"anonymous\">  <meta name=\"keywords\" content=\"josecodetech,numpy,pandas,ticoticotaa,programacion,mbot,python,javascript,scratch,appinventor,android,contabilidad,contasol,contable,developer,desarrollador,profesor,tutorial,aprende con jose\">\\r\\n  <meta name=\"description\" content=\"Web con contenido sobre programacion y contabilidad\">\\r\\n  <meta name=\"author\" content=\"jose ojeda (josecodetech)\">\\r\\n  <title>Programando con #josecodetech</title>\\r\\n  <script src=\"./js/cookie.js\"></script>\\r\\n</head>\\r\\n\\r\\n<body>\\r\\n\\r\\n  <header>\\r\\n    <div class=\"collapse bg-dark\" id=\"navbarHeader\">\\r\\n      <div class=\"container\">\\r\\n        <div class=\"row\">\\r\\n          <div class=\"col-sm-8 col-md-7 py-4\">\\r\\n            <h4 class=\"text-white\">Sobre mi</h4>\\r\\n              <p class=\"text-muted\" style=\"color:white;\">\\r\\n                Diplomado en Empresariales, tecnico superior en Prevencion de Riesgos Laborales.\\r\\n                <br/>\\r\\n  Gran aficionado a la programacion e informatica en general, formado y certificado en<br/>\\r\\n  programacion JavaScript, Python, Android, Java, VisualBasic, Scratch, AppInventor.\\r\\n  <br/>\\r\\n  Amplia experiencia y formacion, contable y administrativa.\\r\\n  <br/>\\r\\n  Debido a mi profesion, manejo a nivel profesional de MSOffice, Power BI, Contasol, etc.\\r\\n  <br/>\\r\\n  Creando y compartiendo contenido en la web.\\r\\n  <br/></p>            </div>\\r\\n          <div class=\"col-sm-4 offset-md-1 py-4\">\\r\\n            <h4 class=\"text-white\">Contacto</h4>\\r\\n            <ul class=\"list-unstyled\">\\r\\n  <li><a href=\"https://twitter.com/josecodetech\" class=\"text-white\">Sigueme en Twitter</a></li>\\r\\n  <li><a href=\"https://www.facebook.com/josecodetech\" class=\"text-white\">Tambien en Facebook</a></li>\\r\\n  <li><a href=\"https://www.instagram.com/josecodetech/\" class=\"text-white\">O en Instagram</a></li>\\r\\n  <li><a href=\"josecodetech@gmail.com\" class=\"text-white\">Enviame un correo</a></li>\\r\\n</ul>          </div>\\r\\n        </div>\\r\\n      </div>\\r\\n    </div>\\r\\n    <div class=\"navbar navbar-dark bg-dark shadow-sm\">\\r\\n      <div class=\"container\">\\r\\n        <a href=\"#\" class=\"navbar-brand d-flex align-items-center\">\\r\\n\\r\\n          <strong>#josecodetech</strong>\\r\\n        </a>\\r\\n        <button class=\"navbar-toggler\" type=\"button\" data-bs-toggle=\"collapse\" data-bs-target=\"#navbarHeader\" aria-controls=\"navbarHeader\" aria-expanded=\"false\" aria-label=\"Toggle navigation\">\\r\\n          <span class=\"navbar-toggler-icon\"></span>\\r\\n        </button>\\r\\n      </div>\\r\\n    </div>\\r\\n  </header>\\r\\n\\r\\n  <main>\\r\\n\\r\\n    <section class=\"py-5 text-center container\">\\r\\n      <div class=\"row py-lg-5\">\\r\\n        <div class=\"col-lg-6 col-md-8 mx-auto\">\\r\\n          <h1 class=\"fw-light\">Cursos de programacion y administracion</h1>\\r\\n          <p class=\"lead text-muted\">Accede a los cursos publicados desde este sitio. <br>Si quieres obtener\\r\\n            un certificado de formacion realizalo a traves de Udemy.</p>\\r\\n          <p>\\r\\n            <a href=\"https://www.youtube.com/@josecodetech\" class=\"btn btn-primary my-2\">Visita mi canal Youtube</a>\\r\\n            <a href=\"https://www.udemy.com/user/jose-ojeda-5/\" class=\"btn btn-secondary my-2\">Cursos publicados en Udemy</a>\\r\\n            <!-- <a href=\"./cursos/udemy.php\" class=\"btn btn-secondary my-2\">Cursos con certificado Udemy</a>-->\\r\\n\\r\\n          </p>\\r\\n        </div>\\r\\n      </div>\\r\\n    </section>\\r\\n\\r\\n\\r\\n    <div class=\"album py-5 bg-light\">\\r\\n      <div class=\"container\">\\r\\n\\r\\n        <div class=\"row row-cols-1 row-cols-sm-2 row-cols-md-3 g-3\">\\r\\n\\r\\n          <div class=\"col\">\\r\\n            <div class=\"card shadow-sm\">\\r\\n              <figure>\\r\\n\\r\\n                <a href=\"./cursos/python.php\">\\r\\n                  <img src=\"./img/logoPython.png\" alt=\"Curso de Python\" width=\"100%\" height=\"150\">\\r\\n                </a>\\r\\n\\r\\n              </figure>\\r\\n\\r\\n              <div class=\"card-body\">\\r\\n                <p class=\"card-text\">Curso de programacion con Python desde cero</p>\\r\\n                <div class=\"d-flex justify-content-between align-items-center\">\\r\\n                  <div class=\"btn-group\">\\r\\n\\r\\n                  </div>\\r\\n\\r\\n                </div>\\r\\n              </div>\\r\\n            </div>\\r\\n          </div>\\r\\n          <div class=\"col\">\\r\\n            <div class=\"card shadow-sm\">\\r\\n              <figure>\\r\\n\\r\\n                <a href=\"./cursos/tkinter.php\">\\r\\n                  <img src=\"./img/logoTkinter.png\" alt=\"Tkinter\" width=\"100%\" height=\"150\">\\r\\n                </a>\\r\\n\\r\\n              </figure>\\r\\n\\r\\n              <div class=\"card-body\">\\r\\n                <p class=\"card-text\">Crea aplicaciones de escritorio con tkinter</p>\\r\\n                <div class=\"d-flex justify-content-between align-items-center\">\\r\\n                  <div class=\"btn-group\">\\r\\n\\r\\n                  </div>\\r\\n\\r\\n                </div>\\r\\n              </div>\\r\\n            </div>\\r\\n          </div>\\r\\n          <div class=\"col\">\\r\\n            <div class=\"card shadow-sm\">\\r\\n              <figure>\\r\\n\\r\\n                <a href=\"./cursos/flask.php\">\\r\\n                  <img src=\"./img/logoFlask.png\" alt=\"Flask\" width=\"100%\" height=\"150\">\\r\\n                </a>\\r\\n\\r\\n              </figure>\\r\\n\\r\\n              <div class=\"card-body\">\\r\\n                <p class=\"card-text\">Desarrollo web con Flask (Python)</p>\\r\\n                <div class=\"d-flex justify-content-between align-items-center\">\\r\\n                  <div class=\"btn-group\">\\r\\n\\r\\n                  </div>\\r\\n\\r\\n                </div>\\r\\n              </div>\\r\\n            </div>\\r\\n          </div>\\r\\n\\r\\n          <div class=\"col\">\\r\\n            <div class=\"card shadow-sm\">\\r\\n              <figure>\\r\\n\\r\\n                <a href=\"./cursos/numpy.php\">\\r\\n                  <img src=\"./img/logoNumpy.png\" alt=\"Numpy\" width=\"100%\" height=\"150\">\\r\\n                </a>\\r\\n\\r\\n              </figure>\\r\\n\\r\\n              <div class=\"card-body\">\\r\\n                <p class=\"card-text\">Libreria Numpy (Python)</p>\\r\\n                <div class=\"d-flex justify-content-between align-items-center\">\\r\\n                  <div class=\"btn-group\">\\r\\n\\r\\n                  </div>\\r\\n\\r\\n                </div>\\r\\n              </div>\\r\\n            </div>\\r\\n          </div>\\r\\n          <div class=\"col\">\\r\\n            <div class=\"card shadow-sm\">\\r\\n              <figure>\\r\\n\\r\\n                <a href=\"./cursos/pandas.php\">\\r\\n                  <img src=\"./img/logoPandas.png\" alt=\"Numpy\" width=\"100%\" height=\"150\">\\r\\n                </a>\\r\\n\\r\\n              </figure>\\r\\n\\r\\n              <div class=\"card-body\">\\r\\n                <p class=\"card-text\">Libreria Pandas (Python)</p>\\r\\n                <div class=\"d-flex justify-content-between align-items-center\">\\r\\n                  <div class=\"btn-group\">\\r\\n\\r\\n                  </div>\\r\\n\\r\\n                </div>\\r\\n              </div>\\r\\n            </div>\\r\\n          </div>\\r\\n          <div class=\"col\">\\r\\n            <div class=\"card shadow-sm\">\\r\\n              <figure>\\r\\n\\r\\n                <a href=\"./cursos/matplotlib.php\">\\r\\n                  <img src=\"./img/logoMatplotlib.png\" alt=\"Graficas matplotlib\" width=\"100%\" height=\"150\">\\r\\n                </a>\\r\\n\\r\\n              </figure>\\r\\n\\r\\n              <div class=\"card-body\">\\r\\n                <p class=\"card-text\">Matplotlib, graficas con Python</p>\\r\\n                <div class=\"d-flex justify-content-between align-items-center\">\\r\\n                  <div class=\"btn-group\">\\r\\n\\r\\n                  </div>\\r\\n\\r\\n                </div>\\r\\n              </div>\\r\\n            </div>\\r\\n          </div>\\r\\n\\r\\n          <div class=\"col\">\\r\\n            <div class=\"card shadow-sm\">\\r\\n              <figure>\\r\\n\\r\\n                <a href=\"./cursos/ciencia.php\">\\r\\n                  <img src=\"./img/logoCiencia.png\" alt=\"Ciencia datos\" width=\"100%\" height=\"150\">\\r\\n                </a>\\r\\n\\r\\n              </figure>\\r\\n\\r\\n              <div class=\"card-body\">\\r\\n                <p class=\"card-text\">Ciencia de datos (Python)</p>\\r\\n                <div class=\"d-flex justify-content-between align-items-center\">\\r\\n                  <div class=\"btn-group\">\\r\\n\\r\\n                  </div>\\r\\n\\r\\n                </div>\\r\\n              </div>\\r\\n            </div>\\r\\n          </div>\\r\\n\\r\\n          <div class=\"col\">\\r\\n            <div class=\"card shadow-sm\">\\r\\n              <figure>\\r\\n\\r\\n                <a href=\"./cursos/git.php\">\\r\\n                  <img src=\"./img/logoGit.png\" alt=\"Git\" width=\"100%\" height=\"150\">\\r\\n                </a>\\r\\n\\r\\n              </figure>\\r\\n\\r\\n              <div class=\"card-body\">\\r\\n                <p class=\"card-text\">Control de versiones (Git)</p>\\r\\n                <div class=\"d-flex justify-content-between align-items-center\">\\r\\n                  <div class=\"btn-group\">\\r\\n\\r\\n                  </div>\\r\\n\\r\\n                </div>\\r\\n              </div>\\r\\n            </div>\\r\\n          </div>\\r\\n\\r\\n          <div class=\"col\">\\r\\n            <div class=\"card shadow-sm\">\\r\\n              <figure>\\r\\n\\r\\n                <a href=\"./cursos/javascript.php\">\\r\\n                  <img src=\"./img/logoJavascript.png\" alt=\"Javascript\" width=\"100%\" height=\"150\">\\r\\n                </a>\\r\\n\\r\\n              </figure>\\r\\n\\r\\n              <div class=\"card-body\">\\r\\n                <p class=\"card-text\">Introduccion a la programacion con Javascript</p>\\r\\n                <div class=\"d-flex justify-content-between align-items-center\">\\r\\n                  <div class=\"btn-group\">\\r\\n\\r\\n                  </div>\\r\\n\\r\\n                </div>\\r\\n              </div>\\r\\n            </div>\\r\\n          </div>\\r\\n\\r\\n          <div class=\"col\">\\r\\n            <div class=\"card shadow-sm\">\\r\\n              <figure>\\r\\n\\r\\n                <a href=\"./cursos/appinventor.php\">\\r\\n                  <img src=\"./img/logoAppinventor.png\" alt=\"appinventor\" width=\"100%\" height=\"150\">\\r\\n                </a>\\r\\n\\r\\n              </figure>\\r\\n\\r\\n              <div class=\"card-body\">\\r\\n                <p class=\"card-text\">Programacion para android mediante bloques</p>\\r\\n                <div class=\"d-flex justify-content-between align-items-center\">\\r\\n                  <div class=\"btn-group\">\\r\\n\\r\\n                  </div>\\r\\n\\r\\n                </div>\\r\\n              </div>\\r\\n            </div>\\r\\n          </div>\\r\\n          <div class=\"col\">\\r\\n            <div class=\"card shadow-sm\">\\r\\n              <figure>\\r\\n\\r\\n                <a href=\"./cursos/scratch.php\">\\r\\n                  <img src=\"./img/logoScratch.jpg\" alt=\"scratch\" width=\"100%\" height=\"150\">\\r\\n                </a>\\r\\n\\r\\n              </figure>\\r\\n\\r\\n              <div class=\"card-body\">\\r\\n                <p class=\"card-text\">Aprende a programar con Scratch mediante bloques</p>\\r\\n                <div class=\"d-flex justify-content-between align-items-center\">\\r\\n                  <div class=\"btn-group\">\\r\\n\\r\\n                  </div>\\r\\n\\r\\n                </div>\\r\\n              </div>\\r\\n            </div>\\r\\n          </div>\\r\\n          <div class=\"col\">\\r\\n            <div class=\"card shadow-sm\">\\r\\n              <figure>\\r\\n\\r\\n                <a href=\"./cursos/mbot.php\">\\r\\n                  <img src=\"./img/logoMBot.png\" alt=\"mBot\" width=\"100%\" height=\"150\">\\r\\n                </a>\\r\\n\\r\\n              </figure>\\r\\n\\r\\n              <div class=\"card-body\">\\r\\n                <p class=\"card-text\">Robotica educativa con mBot y Scratch</p>\\r\\n                <div class=\"d-flex justify-content-between align-items-center\">\\r\\n                  <div class=\"btn-group\">\\r\\n\\r\\n                  </div>\\r\\n\\r\\n                </div>\\r\\n              </div>\\r\\n            </div>\\r\\n          </div>\\r\\n          <div class=\"col\">\\r\\n            <div class=\"card shadow-sm\">\\r\\n              <figure>\\r\\n\\r\\n                <a href=\"./cursos/dart.php\">\\r\\n                  <img src=\"./img/logoDart.png\" alt=\"Curso de Dart\" width=\"100%\" height=\"150\">\\r\\n                </a>\\r\\n\\r\\n              </figure>\\r\\n\\r\\n              <div class=\"card-body\">\\r\\n                <p class=\"card-text\">Introduccion a Dart</p>\\r\\n                <div class=\"d-flex justify-content-between align-items-center\">\\r\\n                  <div class=\"btn-group\">\\r\\n\\r\\n                  </div>\\r\\n\\r\\n                </div>\\r\\n              </div>\\r\\n            </div>\\r\\n          </div>\\r\\n          <!--inicio tarjeta-->\\r\\n          <div class=\"col\">\\r\\n            <div class=\"card shadow-sm\">\\r\\n              <figure>\\r\\n\\r\\n                <a href=\"./cursos/contabilidad.php\">\\r\\n                  <img src=\"./img/logoContabilidad.png\" alt=\"Curso de contabilidad\" width=\"100%\" height=\"150\">\\r\\n                </a>\\r\\n\\r\\n              </figure>\\r\\n\\r\\n              <div class=\"card-body\">\\r\\n                <p class=\"card-text\">Aprende Contabilidad</p>\\r\\n                <div class=\"d-flex justify-content-between align-items-center\">\\r\\n                  <div class=\"btn-group\">\\r\\n\\r\\n                  </div>\\r\\n\\r\\n                </div>\\r\\n              </div>\\r\\n            </div>\\r\\n          </div>\\r\\n          <!--Fin tarjeta-->\\r\\n\\r\\n\\r\\n          <div class=\"col\">\\r\\n            <div class=\"card shadow-sm\">\\r\\n              <figure>\\r\\n\\r\\n                <a href=\"./cursos/excel.php\">\\r\\n                  <img src=\"./img/logoExcel.png\" alt=\"excel\" width=\"100%\" height=\"150\">\\r\\n                </a>\\r\\n\\r\\n              </figure>\\r\\n\\r\\n              <div class=\"card-body\">\\r\\n                <p class=\"card-text\">Excel practico paso a paso</p>\\r\\n                <div class=\"d-flex justify-content-between align-items-center\">\\r\\n                  <div class=\"btn-group\">\\r\\n\\r\\n                  </div>\\r\\n\\r\\n                </div>\\r\\n              </div>\\r\\n            </div>\\r\\n          </div>\\r\\n\\r\\n\\r\\n\\r\\n\\r\\n\\r\\n\\r\\n\\r\\n\\r\\n\\r\\n\\r\\n\\r\\n\\r\\n\\r\\n        </div>\\r\\n      </div>\\r\\n    </div>\\r\\n\\r\\n  </main>\\r\\n\\r\\n  <footer class=\"text-muted py-5\">\\r\\n    <div class=\"container\">\\r\\n        <p class=\"float-end mb-1\">\\r\\n          <a href=\"#\">Vamos al inicio</a>\\r\\n          <br><br>\\r\\n        </p>\\r\\n        <p class=\"mb-1\">\\r\\n\\r\\n \\r\\n        </p>\\r\\n        <p class=\"mb-0\"><br>\\r\\n\\r\\n\\r\\n        <div id=\"licencia\">\\r\\n            <a rel=\"license\" href=\"http://creativecommons.org/licenses/by-nc-sa/4.0/\"><img id=\"creative\" alt=\"Licencia de Creative Commons\" style=\"border-width:0\" \\r\\n            src=\"https://i.creativecommons.org/l/by-nc-sa/4.0/80x15.png\" /></a><br />Esta obra est\\xc3\\xa1 bajo una <a rel=\"license\" href=\"http://creativecommons.org/licenses/by-nc-sa/4.0/\">licencia de Creative Commons Reconocimiento-NoComercial-CompartirIgual 4.0 Internacional</a>\\r\\n            </div>\\r\\n\\r\\n        <div id=\"cajacookies\">\\r\\n              <p><button onclick=\"aceptarCookies()\"></i> Aceptar y cerrar \\xc3\\xa9ste mensaje</button>\\r\\n              <br>\\xc3\\x89ste sitio web usa cookies, si permanece aqu\\xc3\\xad acepta su uso.<br>\\r\\n              Puede leer m\\xc3\\xa1s sobre el uso de cookies en nuestra \\r\\n              <a href=\"privacidad.php\">pol\\xc3\\xadtica de privacidad</a>.\\r\\n              </p>\\r\\n              \\r\\n              </div>\\r\\n        <hr>\\r\\n</p>\\r\\n      </div>\\r\\n\\r\\n  </footer>\\r\\n\\r\\n\\r\\n  <script src=\"/docs/5.1/dist/js/bootstrap.bundle.min.js\" integrity=\"sha384-ka7Sk0Gln4gmtz2MlQnikT1wXgYsOg+OMhuP+IlRH9sENBO0LRn5q+8nbTov4+1p\" crossorigin=\"anonymous\"></script>\\r\\n\\r\\n\\r\\n\\r\\n  <script src=\"https://cdn.jsdelivr.net/npm/@popperjs/core@2.10.2/dist/umd/popper.min.js\" integrity=\"sha384-7+zCNj/IqJ95wo16oMtfsKbZ9ccEh31eOz1HGyDuCQ6wgnyJNSYdrPa03rtR1zdB\" crossorigin=\"anonymous\"></script>\\r\\n  <script src=\"https://cdn.jsdelivr.net/npm/bootstrap@5.1.3/dist/js/bootstrap.min.js\" integrity=\"sha384-QJHtvGhmr9XOIpI6YVutG+2QOK9T+ZnN4kzFN1RtK3zEFEIsxhlmWl5/YESvpZ13\" crossorigin=\"anonymous\"></script>\\r\\n\\r\\n</body>\\r\\n\\r\\n</html>'\n"
          ]
        }
      ]
    },
    {
      "cell_type": "code",
      "source": [
        "# encabezado respuesta\n",
        "web.headers"
      ],
      "metadata": {
        "colab": {
          "base_uri": "https://localhost:8080/"
        },
        "id": "rq6mj47IUefN",
        "outputId": "a67bb8bb-4a28-46bd-b1e1-c0ad5c3826bb"
      },
      "execution_count": 8,
      "outputs": [
        {
          "output_type": "execute_result",
          "data": {
            "text/plain": [
              "{'Date': 'Sun, 08 Jan 2023 07:37:35 GMT', 'Server': 'Apache/2.4.54 (Unix)', 'X-Powered-By': 'PHP/7.4.33', 'Vary': 'User-Agent', 'Content-Type': 'text/html; charset=utf-8', 'Keep-Alive': 'timeout=3, max=100', 'Connection': 'Keep-Alive', 'Transfer-Encoding': 'chunked'}"
            ]
          },
          "metadata": {},
          "execution_count": 8
        }
      ]
    },
    {
      "cell_type": "code",
      "source": [
        "# encabezado solicitud\n",
        "web.request.headers"
      ],
      "metadata": {
        "colab": {
          "base_uri": "https://localhost:8080/"
        },
        "id": "Od5hufvlUoeK",
        "outputId": "cffaedf3-b54d-4996-86c9-cfe510404f4f"
      },
      "execution_count": 10,
      "outputs": [
        {
          "output_type": "execute_result",
          "data": {
            "text/plain": [
              "{'User-Agent': 'python-requests/2.25.1', 'Accept-Encoding': 'gzip, deflate', 'Accept': '*/*', 'Connection': 'keep-alive'}"
            ]
          },
          "metadata": {},
          "execution_count": 10
        }
      ]
    },
    {
      "cell_type": "code",
      "source": [
        "# metodo de solicitud\n",
        "web.request.method"
      ],
      "metadata": {
        "colab": {
          "base_uri": "https://localhost:8080/",
          "height": 35
        },
        "id": "Hpo1m9DvU21q",
        "outputId": "d468e0a1-47b2-4d60-9ee1-a9afb8f0abb6"
      },
      "execution_count": 11,
      "outputs": [
        {
          "output_type": "execute_result",
          "data": {
            "text/plain": [
              "'GET'"
            ],
            "application/vnd.google.colaboratory.intrinsic+json": {
              "type": "string"
            }
          },
          "metadata": {},
          "execution_count": 11
        }
      ]
    },
    {
      "cell_type": "code",
      "source": [
        "# url a la que hicimos peticion\n",
        "web.request.url"
      ],
      "metadata": {
        "colab": {
          "base_uri": "https://localhost:8080/",
          "height": 35
        },
        "id": "IriDRMU1VKuj",
        "outputId": "b6896cd7-086e-4ace-9a2d-ac380ed0566b"
      },
      "execution_count": 12,
      "outputs": [
        {
          "output_type": "execute_result",
          "data": {
            "text/plain": [
              "'https://www.josecodetech.es/'"
            ],
            "application/vnd.google.colaboratory.intrinsic+json": {
              "type": "string"
            }
          },
          "metadata": {},
          "execution_count": 12
        }
      ]
    },
    {
      "cell_type": "code",
      "source": [],
      "metadata": {
        "id": "1YNwX6C-VaO1"
      },
      "execution_count": null,
      "outputs": []
    }
  ]
}