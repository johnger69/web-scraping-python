{
  "nbformat": 4,
  "nbformat_minor": 0,
  "metadata": {
    "colab": {
      "provenance": []
    },
    "kernelspec": {
      "name": "python3",
      "display_name": "Python 3"
    },
    "language_info": {
      "name": "python"
    }
  },
  "cells": [
    {
      "cell_type": "markdown",
      "source": [
        "#Errores"
      ],
      "metadata": {
        "id": "loGquEAvgcP3"
      }
    },
    {
      "cell_type": "code",
      "execution_count": 1,
      "metadata": {
        "id": "ewQ4E3bQgX_v"
      },
      "outputs": [],
      "source": [
        "import requests\n",
        "from bs4 import BeautifulSoup"
      ]
    },
    {
      "cell_type": "code",
      "source": [
        "url = 'https://www.josecodetech.es/'"
      ],
      "metadata": {
        "id": "-snLVSS1gi5t"
      },
      "execution_count": 27,
      "outputs": []
    },
    {
      "cell_type": "code",
      "source": [
        "try:\n",
        "  web = requests.get(url)\n",
        "except  Exception as e:\n",
        "  print(f\"Error al acceder a la url {url} \\n {e}\")"
      ],
      "metadata": {
        "colab": {
          "base_uri": "https://localhost:8080/"
        },
        "id": "hLqEmnIyglEg",
        "outputId": "473af4b2-b033-404e-ff43-ebc3370eb213"
      },
      "execution_count": 23,
      "outputs": [
        {
          "output_type": "stream",
          "name": "stdout",
          "text": [
            "Error al acceder a la url https://www.josecodetechs/ \n",
            " HTTPSConnectionPool(host='www.josecodetechs', port=443): Max retries exceeded with url: / (Caused by NewConnectionError('<urllib3.connection.VerifiedHTTPSConnection object at 0x7efed9328310>: Failed to establish a new connection: [Errno -2] Name or service not known'))\n"
          ]
        }
      ]
    },
    {
      "cell_type": "code",
      "source": [
        "web = requests.get(url)\n",
        "if web.status_code == 200:\n",
        "  print('Respuesta correcta')\n",
        "else:\n",
        "  print('Error al acceder a la url indicada')"
      ],
      "metadata": {
        "colab": {
          "base_uri": "https://localhost:8080/"
        },
        "id": "W2fiU-dfikrG",
        "outputId": "46c644ff-3d12-4152-ffef-cf9c528a65bb"
      },
      "execution_count": 28,
      "outputs": [
        {
          "output_type": "stream",
          "name": "stdout",
          "text": [
            "Respuesta correcta\n"
          ]
        }
      ]
    },
    {
      "cell_type": "code",
      "source": [
        "soup = BeautifulSoup(web.text,'lxml')\n"
      ],
      "metadata": {
        "id": "MIEEfwfxgn64"
      },
      "execution_count": 15,
      "outputs": []
    },
    {
      "cell_type": "code",
      "source": [
        "enlaces = soup.find('ul').find_all('a')"
      ],
      "metadata": {
        "id": "MiB3Nr4Ugtvx"
      },
      "execution_count": 32,
      "outputs": []
    },
    {
      "cell_type": "code",
      "source": [
        "if enlaces:\n",
        "  print('Enlaces validos')\n",
        "else:\n",
        "  print('Error en los enlaces')"
      ],
      "metadata": {
        "colab": {
          "base_uri": "https://localhost:8080/"
        },
        "id": "iaFjQPssgzyi",
        "outputId": "544800b6-5a32-49ca-d70e-ee1f9dd457a2"
      },
      "execution_count": 33,
      "outputs": [
        {
          "output_type": "stream",
          "name": "stdout",
          "text": [
            "Enlaces validos\n"
          ]
        }
      ]
    },
    {
      "cell_type": "code",
      "source": [],
      "metadata": {
        "id": "eD6yKKI3joAW"
      },
      "execution_count": null,
      "outputs": []
    }
  ]
}