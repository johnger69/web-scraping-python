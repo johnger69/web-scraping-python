{
  "nbformat": 4,
  "nbformat_minor": 0,
  "metadata": {
    "colab": {
      "provenance": []
    },
    "kernelspec": {
      "name": "python3",
      "display_name": "Python 3"
    },
    "language_info": {
      "name": "python"
    }
  },
  "cells": [
    {
      "cell_type": "markdown",
      "source": [
        "#Enlaces para conocimientos HTML "
      ],
      "metadata": {
        "id": "oOHaVTaiJxw6"
      }
    },
    {
      "cell_type": "markdown",
      "source": [
        "Debes tener conocimientos de HTML, CSS y por supuesto de Python,\n",
        "te dejo unos enlaces para repasar:\n",
        "\n",
        "Lista [HTML](https://www.youtube.com/playlist?list=PLhr9YdZStgI0S9TyFxqluvYWVSBAmkyre)\n",
        "\n",
        "Primera [web](https://www.youtube.com/watch?v=yhUlpwUw-Pc&list=PLhr9YdZStgI0S9TyFxqluvYWVSBAmkyre&index=33) "
      ],
      "metadata": {
        "id": "4mb72QfXJ240"
      }
    },
    {
      "cell_type": "markdown",
      "source": [
        "#Preparacion"
      ],
      "metadata": {
        "id": "E7yyFAtpJvKK"
      }
    },
    {
      "cell_type": "code",
      "execution_count": 1,
      "metadata": {
        "colab": {
          "base_uri": "https://localhost:8080/"
        },
        "id": "iWgvDpISJqzE",
        "outputId": "6853a766-111c-4ddb-c992-8cc13da73b12"
      },
      "outputs": [
        {
          "output_type": "stream",
          "name": "stdout",
          "text": [
            "Looking in indexes: https://pypi.org/simple, https://us-python.pkg.dev/colab-wheels/public/simple/\n",
            "Requirement already satisfied: bs4 in /usr/local/lib/python3.8/dist-packages (0.0.1)\n",
            "Requirement already satisfied: beautifulsoup4 in /usr/local/lib/python3.8/dist-packages (from bs4) (4.6.3)\n"
          ]
        }
      ],
      "source": [
        "!pip install bs4"
      ]
    },
    {
      "cell_type": "code",
      "source": [
        "!pip install requests"
      ],
      "metadata": {
        "colab": {
          "base_uri": "https://localhost:8080/"
        },
        "id": "cWmMMN5lJw5U",
        "outputId": "5389c7a2-5a05-40d0-8b4c-b8b197fe2559"
      },
      "execution_count": 2,
      "outputs": [
        {
          "output_type": "stream",
          "name": "stdout",
          "text": [
            "Looking in indexes: https://pypi.org/simple, https://us-python.pkg.dev/colab-wheels/public/simple/\n",
            "Requirement already satisfied: requests in /usr/local/lib/python3.8/dist-packages (2.25.1)\n",
            "Requirement already satisfied: urllib3<1.27,>=1.21.1 in /usr/local/lib/python3.8/dist-packages (from requests) (1.24.3)\n",
            "Requirement already satisfied: chardet<5,>=3.0.2 in /usr/local/lib/python3.8/dist-packages (from requests) (4.0.0)\n",
            "Requirement already satisfied: idna<3,>=2.5 in /usr/local/lib/python3.8/dist-packages (from requests) (2.10)\n",
            "Requirement already satisfied: certifi>=2017.4.17 in /usr/local/lib/python3.8/dist-packages (from requests) (2022.12.7)\n"
          ]
        }
      ]
    },
    {
      "cell_type": "code",
      "source": [],
      "metadata": {
        "id": "Flwxf0yjKtbc"
      },
      "execution_count": null,
      "outputs": []
    }
  ]
}