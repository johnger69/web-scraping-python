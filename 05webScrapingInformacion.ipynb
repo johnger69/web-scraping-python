{
  "nbformat": 4,
  "nbformat_minor": 0,
  "metadata": {
    "colab": {
      "provenance": []
    },
    "kernelspec": {
      "name": "python3",
      "display_name": "Python 3"
    },
    "language_info": {
      "name": "python"
    }
  },
  "cells": [
    {
      "cell_type": "markdown",
      "source": [
        "#Obteniendo informacion de enlaces"
      ],
      "metadata": {
        "id": "KuL-5robqldU"
      }
    },
    {
      "cell_type": "code",
      "execution_count": 1,
      "metadata": {
        "id": "7r_ps6r5qg_q"
      },
      "outputs": [],
      "source": [
        "import requests\n",
        "from bs4 import BeautifulSoup"
      ]
    },
    {
      "cell_type": "code",
      "source": [
        "url = 'https://www.josecodetech.es'\n",
        "web = requests.get(url)\n",
        "soup = BeautifulSoup(web.text,'lxml')"
      ],
      "metadata": {
        "id": "6CAkU4SQqunk"
      },
      "execution_count": 2,
      "outputs": []
    },
    {
      "cell_type": "code",
      "source": [
        "soup.prettify"
      ],
      "metadata": {
        "id": "n3zNn1RkrCfx"
      },
      "execution_count": null,
      "outputs": []
    },
    {
      "cell_type": "code",
      "source": [
        "tarjetas = soup.find_all('div',attrs={'class':'card'})\n",
        "tarjetas"
      ],
      "metadata": {
        "id": "HXVves-QrGbK"
      },
      "execution_count": null,
      "outputs": []
    },
    {
      "cell_type": "code",
      "source": [
        "lista_enlaces = []\n",
        "for tarjeta in tarjetas:\n",
        "  print(\"*\"*30)\n",
        "  print(tarjeta)\n",
        "  print(\"*\"*30)\n",
        "  print(\"\\n\")\n",
        "  enlace = tarjeta.find('a')\n",
        "  print(enlace.get('href'))\n",
        "  lista_enlaces.append(enlace.get('href'))\n",
        "lista_enlaces"
      ],
      "metadata": {
        "id": "6HYyP4uurbsr"
      },
      "execution_count": null,
      "outputs": []
    },
    {
      "cell_type": "code",
      "source": [
        "# quitamos . de enlaces y creamos url completa\n",
        "lista_urls = []\n",
        "for enlace in lista_enlaces:\n",
        "  print(enlace[1:len(enlace)])\n",
        "  enlace = enlace[1:len(enlace)]\n",
        "  url_nueva = url + enlace\n",
        "  print(url_nueva)\n",
        "  lista_urls.append(url_nueva)\n",
        "lista_urls\n",
        "\n"
      ],
      "metadata": {
        "colab": {
          "base_uri": "https://localhost:8080/"
        },
        "id": "UIDlKwAsrxGb",
        "outputId": "daf0637b-be59-45f7-edef-683408037e28"
      },
      "execution_count": 10,
      "outputs": [
        {
          "output_type": "stream",
          "name": "stdout",
          "text": [
            "/cursos/python.php\n",
            "https://www.josecodetech.es/cursos/python.php\n",
            "/cursos/tkinter.php\n",
            "https://www.josecodetech.es/cursos/tkinter.php\n",
            "/cursos/flask.php\n",
            "https://www.josecodetech.es/cursos/flask.php\n",
            "/cursos/numpy.php\n",
            "https://www.josecodetech.es/cursos/numpy.php\n",
            "/cursos/pandas.php\n",
            "https://www.josecodetech.es/cursos/pandas.php\n",
            "/cursos/matplotlib.php\n",
            "https://www.josecodetech.es/cursos/matplotlib.php\n",
            "/cursos/ciencia.php\n",
            "https://www.josecodetech.es/cursos/ciencia.php\n",
            "/cursos/git.php\n",
            "https://www.josecodetech.es/cursos/git.php\n",
            "/cursos/javascript.php\n",
            "https://www.josecodetech.es/cursos/javascript.php\n",
            "/cursos/appinventor.php\n",
            "https://www.josecodetech.es/cursos/appinventor.php\n",
            "/cursos/scratch.php\n",
            "https://www.josecodetech.es/cursos/scratch.php\n",
            "/cursos/mbot.php\n",
            "https://www.josecodetech.es/cursos/mbot.php\n",
            "/cursos/dart.php\n",
            "https://www.josecodetech.es/cursos/dart.php\n",
            "/cursos/contabilidad.php\n",
            "https://www.josecodetech.es/cursos/contabilidad.php\n",
            "/cursos/excel.php\n",
            "https://www.josecodetech.es/cursos/excel.php\n"
          ]
        },
        {
          "output_type": "execute_result",
          "data": {
            "text/plain": [
              "['https://www.josecodetech.es/cursos/python.php',\n",
              " 'https://www.josecodetech.es/cursos/tkinter.php',\n",
              " 'https://www.josecodetech.es/cursos/flask.php',\n",
              " 'https://www.josecodetech.es/cursos/numpy.php',\n",
              " 'https://www.josecodetech.es/cursos/pandas.php',\n",
              " 'https://www.josecodetech.es/cursos/matplotlib.php',\n",
              " 'https://www.josecodetech.es/cursos/ciencia.php',\n",
              " 'https://www.josecodetech.es/cursos/git.php',\n",
              " 'https://www.josecodetech.es/cursos/javascript.php',\n",
              " 'https://www.josecodetech.es/cursos/appinventor.php',\n",
              " 'https://www.josecodetech.es/cursos/scratch.php',\n",
              " 'https://www.josecodetech.es/cursos/mbot.php',\n",
              " 'https://www.josecodetech.es/cursos/dart.php',\n",
              " 'https://www.josecodetech.es/cursos/contabilidad.php',\n",
              " 'https://www.josecodetech.es/cursos/excel.php']"
            ]
          },
          "metadata": {},
          "execution_count": 10
        }
      ]
    },
    {
      "cell_type": "code",
      "source": [
        "# visitar urls y obtener enlaces youtube\n",
        "lista_titulos = []\n",
        "lista_enlaces_youtube = []\n",
        "for url in lista_urls:\n",
        "  nueva_web = requests.get(url)\n",
        "  soup = BeautifulSoup(nueva_web.text,'lxml')\n",
        "  tarjetas = soup.find_all('div',attrs={'class':'card'})\n",
        "  for tarjeta in tarjetas:\n",
        "    # mas bucles para el resto con find_all\n",
        "    # titulos\n",
        "    titulos = soup.find_all('h3',attrs={'class':'card-text'})\n",
        "    #print(titulos)\n",
        "    for titulo in titulos:\n",
        "      lista_titulos.append(titulo.text.strip())\n",
        "    # enlaces youtube\n",
        "    links_youtube = soup.find_all('figure')\n",
        "    for enlace in links_youtube:\n",
        "      lista_enlaces_youtube.append(enlace.find('iframe').get('src'))\n",
        "#lista_titulos\n",
        "print(\"*\"*50)\n",
        "#lista_enlaces_youtube"
      ],
      "metadata": {
        "id": "YE9TlAmbs101"
      },
      "execution_count": null,
      "outputs": []
    },
    {
      "cell_type": "code",
      "source": [
        "lista_titulos"
      ],
      "metadata": {
        "id": "b_gzkUWJu42S"
      },
      "execution_count": null,
      "outputs": []
    },
    {
      "cell_type": "code",
      "source": [
        "lista_enlaces_youtube"
      ],
      "metadata": {
        "id": "gUuDKGmvxgBv"
      },
      "execution_count": null,
      "outputs": []
    },
    {
      "cell_type": "code",
      "source": [
        "# Crear diccionario con los datos obtenidos\n",
        "datos = dict(zip(lista_titulos,lista_enlaces_youtube))\n",
        "datos"
      ],
      "metadata": {
        "id": "1v19l6fAxiut"
      },
      "execution_count": null,
      "outputs": []
    },
    {
      "cell_type": "code",
      "source": [
        "# Pasar datos a DataFrame\n",
        "import pandas as pd"
      ],
      "metadata": {
        "id": "H8wW_9NCxwJh"
      },
      "execution_count": 21,
      "outputs": []
    },
    {
      "cell_type": "code",
      "source": [
        "print(len(datos))\n",
        "print(type(datos))"
      ],
      "metadata": {
        "colab": {
          "base_uri": "https://localhost:8080/"
        },
        "id": "8rO4is7yx42e",
        "outputId": "b8fe857f-89d4-460f-d8fd-d6e6d445c3d0"
      },
      "execution_count": 22,
      "outputs": [
        {
          "output_type": "stream",
          "name": "stdout",
          "text": [
            "240\n",
            "<class 'dict'>\n"
          ]
        }
      ]
    },
    {
      "cell_type": "code",
      "source": [
        "df = pd.DataFrame([[clave, datos[clave]] for clave in datos.keys()], columns= ['Titulo','Enlace'])\n",
        "df"
      ],
      "metadata": {
        "colab": {
          "base_uri": "https://localhost:8080/",
          "height": 423
        },
        "id": "XQck4ER1x-Wk",
        "outputId": "adbfeef7-5b60-4893-8ad5-3fea07570979"
      },
      "execution_count": 23,
      "outputs": [
        {
          "output_type": "execute_result",
          "data": {
            "text/plain": [
              "                     Titulo                                             Enlace\n",
              "0        Instalacion Python  https://www.youtube.com/embed/rVUjEp9GAOM?list...\n",
              "1           Editores Python  https://www.youtube.com/embed/0QR6v0YrznA?list...\n",
              "2    Tipos de datos basicos  https://www.youtube.com/embed/U0mqcrZUZbE?list...\n",
              "3      Ejecucion de scripts  https://www.youtube.com/embed/4jUIVxYLFkk?list...\n",
              "4                 Variables  https://www.youtube.com/embed/gtJG9ZgqZkA?list...\n",
              "..                      ...                                                ...\n",
              "235      Graficas dinamicas  https://www.youtube.com/embed/LuMeZQOouPY?list...\n",
              "236             Facturacion  https://www.youtube.com/embed/_H423fMBrT4?list...\n",
              "237        Registro horario  https://www.youtube.com/embed/9Hc74mcdwDs?list...\n",
              "238                 Nominas  https://www.youtube.com/embed/9_9N7g22fcg?list...\n",
              "239         Etiqueta envios          https://www.youtube.com/embed/XkMFu2ljaHc\n",
              "\n",
              "[240 rows x 2 columns]"
            ],
            "text/html": [
              "\n",
              "  <div id=\"df-6d10f79d-8042-46c5-b0c7-f32734c9b584\">\n",
              "    <div class=\"colab-df-container\">\n",
              "      <div>\n",
              "<style scoped>\n",
              "    .dataframe tbody tr th:only-of-type {\n",
              "        vertical-align: middle;\n",
              "    }\n",
              "\n",
              "    .dataframe tbody tr th {\n",
              "        vertical-align: top;\n",
              "    }\n",
              "\n",
              "    .dataframe thead th {\n",
              "        text-align: right;\n",
              "    }\n",
              "</style>\n",
              "<table border=\"1\" class=\"dataframe\">\n",
              "  <thead>\n",
              "    <tr style=\"text-align: right;\">\n",
              "      <th></th>\n",
              "      <th>Titulo</th>\n",
              "      <th>Enlace</th>\n",
              "    </tr>\n",
              "  </thead>\n",
              "  <tbody>\n",
              "    <tr>\n",
              "      <th>0</th>\n",
              "      <td>Instalacion Python</td>\n",
              "      <td>https://www.youtube.com/embed/rVUjEp9GAOM?list...</td>\n",
              "    </tr>\n",
              "    <tr>\n",
              "      <th>1</th>\n",
              "      <td>Editores Python</td>\n",
              "      <td>https://www.youtube.com/embed/0QR6v0YrznA?list...</td>\n",
              "    </tr>\n",
              "    <tr>\n",
              "      <th>2</th>\n",
              "      <td>Tipos de datos basicos</td>\n",
              "      <td>https://www.youtube.com/embed/U0mqcrZUZbE?list...</td>\n",
              "    </tr>\n",
              "    <tr>\n",
              "      <th>3</th>\n",
              "      <td>Ejecucion de scripts</td>\n",
              "      <td>https://www.youtube.com/embed/4jUIVxYLFkk?list...</td>\n",
              "    </tr>\n",
              "    <tr>\n",
              "      <th>4</th>\n",
              "      <td>Variables</td>\n",
              "      <td>https://www.youtube.com/embed/gtJG9ZgqZkA?list...</td>\n",
              "    </tr>\n",
              "    <tr>\n",
              "      <th>...</th>\n",
              "      <td>...</td>\n",
              "      <td>...</td>\n",
              "    </tr>\n",
              "    <tr>\n",
              "      <th>235</th>\n",
              "      <td>Graficas dinamicas</td>\n",
              "      <td>https://www.youtube.com/embed/LuMeZQOouPY?list...</td>\n",
              "    </tr>\n",
              "    <tr>\n",
              "      <th>236</th>\n",
              "      <td>Facturacion</td>\n",
              "      <td>https://www.youtube.com/embed/_H423fMBrT4?list...</td>\n",
              "    </tr>\n",
              "    <tr>\n",
              "      <th>237</th>\n",
              "      <td>Registro horario</td>\n",
              "      <td>https://www.youtube.com/embed/9Hc74mcdwDs?list...</td>\n",
              "    </tr>\n",
              "    <tr>\n",
              "      <th>238</th>\n",
              "      <td>Nominas</td>\n",
              "      <td>https://www.youtube.com/embed/9_9N7g22fcg?list...</td>\n",
              "    </tr>\n",
              "    <tr>\n",
              "      <th>239</th>\n",
              "      <td>Etiqueta envios</td>\n",
              "      <td>https://www.youtube.com/embed/XkMFu2ljaHc</td>\n",
              "    </tr>\n",
              "  </tbody>\n",
              "</table>\n",
              "<p>240 rows × 2 columns</p>\n",
              "</div>\n",
              "      <button class=\"colab-df-convert\" onclick=\"convertToInteractive('df-6d10f79d-8042-46c5-b0c7-f32734c9b584')\"\n",
              "              title=\"Convert this dataframe to an interactive table.\"\n",
              "              style=\"display:none;\">\n",
              "        \n",
              "  <svg xmlns=\"http://www.w3.org/2000/svg\" height=\"24px\"viewBox=\"0 0 24 24\"\n",
              "       width=\"24px\">\n",
              "    <path d=\"M0 0h24v24H0V0z\" fill=\"none\"/>\n",
              "    <path d=\"M18.56 5.44l.94 2.06.94-2.06 2.06-.94-2.06-.94-.94-2.06-.94 2.06-2.06.94zm-11 1L8.5 8.5l.94-2.06 2.06-.94-2.06-.94L8.5 2.5l-.94 2.06-2.06.94zm10 10l.94 2.06.94-2.06 2.06-.94-2.06-.94-.94-2.06-.94 2.06-2.06.94z\"/><path d=\"M17.41 7.96l-1.37-1.37c-.4-.4-.92-.59-1.43-.59-.52 0-1.04.2-1.43.59L10.3 9.45l-7.72 7.72c-.78.78-.78 2.05 0 2.83L4 21.41c.39.39.9.59 1.41.59.51 0 1.02-.2 1.41-.59l7.78-7.78 2.81-2.81c.8-.78.8-2.07 0-2.86zM5.41 20L4 18.59l7.72-7.72 1.47 1.35L5.41 20z\"/>\n",
              "  </svg>\n",
              "      </button>\n",
              "      \n",
              "  <style>\n",
              "    .colab-df-container {\n",
              "      display:flex;\n",
              "      flex-wrap:wrap;\n",
              "      gap: 12px;\n",
              "    }\n",
              "\n",
              "    .colab-df-convert {\n",
              "      background-color: #E8F0FE;\n",
              "      border: none;\n",
              "      border-radius: 50%;\n",
              "      cursor: pointer;\n",
              "      display: none;\n",
              "      fill: #1967D2;\n",
              "      height: 32px;\n",
              "      padding: 0 0 0 0;\n",
              "      width: 32px;\n",
              "    }\n",
              "\n",
              "    .colab-df-convert:hover {\n",
              "      background-color: #E2EBFA;\n",
              "      box-shadow: 0px 1px 2px rgba(60, 64, 67, 0.3), 0px 1px 3px 1px rgba(60, 64, 67, 0.15);\n",
              "      fill: #174EA6;\n",
              "    }\n",
              "\n",
              "    [theme=dark] .colab-df-convert {\n",
              "      background-color: #3B4455;\n",
              "      fill: #D2E3FC;\n",
              "    }\n",
              "\n",
              "    [theme=dark] .colab-df-convert:hover {\n",
              "      background-color: #434B5C;\n",
              "      box-shadow: 0px 1px 3px 1px rgba(0, 0, 0, 0.15);\n",
              "      filter: drop-shadow(0px 1px 2px rgba(0, 0, 0, 0.3));\n",
              "      fill: #FFFFFF;\n",
              "    }\n",
              "  </style>\n",
              "\n",
              "      <script>\n",
              "        const buttonEl =\n",
              "          document.querySelector('#df-6d10f79d-8042-46c5-b0c7-f32734c9b584 button.colab-df-convert');\n",
              "        buttonEl.style.display =\n",
              "          google.colab.kernel.accessAllowed ? 'block' : 'none';\n",
              "\n",
              "        async function convertToInteractive(key) {\n",
              "          const element = document.querySelector('#df-6d10f79d-8042-46c5-b0c7-f32734c9b584');\n",
              "          const dataTable =\n",
              "            await google.colab.kernel.invokeFunction('convertToInteractive',\n",
              "                                                     [key], {});\n",
              "          if (!dataTable) return;\n",
              "\n",
              "          const docLinkHtml = 'Like what you see? Visit the ' +\n",
              "            '<a target=\"_blank\" href=https://colab.research.google.com/notebooks/data_table.ipynb>data table notebook</a>'\n",
              "            + ' to learn more about interactive tables.';\n",
              "          element.innerHTML = '';\n",
              "          dataTable['output_type'] = 'display_data';\n",
              "          await google.colab.output.renderOutput(dataTable, element);\n",
              "          const docLink = document.createElement('div');\n",
              "          docLink.innerHTML = docLinkHtml;\n",
              "          element.appendChild(docLink);\n",
              "        }\n",
              "      </script>\n",
              "    </div>\n",
              "  </div>\n",
              "  "
            ]
          },
          "metadata": {},
          "execution_count": 23
        }
      ]
    },
    {
      "cell_type": "code",
      "source": [
        "# Grabar archivo\n",
        "df.to_csv('enlacesYouTube.csv')"
      ],
      "metadata": {
        "id": "e93Txs8ryQ-1"
      },
      "execution_count": 24,
      "outputs": []
    },
    {
      "cell_type": "code",
      "source": [],
      "metadata": {
        "id": "LQXhe6iPyeqq"
      },
      "execution_count": null,
      "outputs": []
    }
  ]
}